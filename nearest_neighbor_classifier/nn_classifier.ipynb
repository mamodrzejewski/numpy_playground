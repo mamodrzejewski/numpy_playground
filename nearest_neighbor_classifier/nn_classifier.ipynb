{
 "cells": [
  {
   "cell_type": "markdown",
   "metadata": {},
   "source": [
    "### Nearest Neighbor classifier demo\n",
    "\n",
    "Very simple example of a nn classifier."
   ]
  },
  {
   "cell_type": "code",
   "execution_count": 2,
   "metadata": {},
   "outputs": [],
   "source": [
    "import numpy as np"
   ]
  },
  {
   "cell_type": "code",
   "execution_count": 3,
   "metadata": {},
   "outputs": [],
   "source": [
    "class NearestNeighborClassifier:\n",
    "    \"\"\"\n",
    "    Very simple NN classifier written in numpy.\n",
    "    \"\"\"\n",
    "\n",
    "    def __init__(self):\n",
    "        pass\n",
    "\n",
    "    def train(self, X, y):\n",
    "        \"\"\"\n",
    "        Remembers all the training data.\n",
    "\n",
    "        X is (N x D) training data, each row is an example.\n",
    "        y is 1 dimension of size N and contains the labels.\n",
    "        \"\"\"\n",
    "        self.Xtr = X\n",
    "        self.ytr = y\n",
    "\n",
    "    def predict(self, X):\n",
    "        \"\"\"\n",
    "        Finds the nearest training image to the i'th test image.\n",
    "        Uses L1 distance.\n",
    "\n",
    "        X is (N x D) examples for prediction.\n",
    "        \"\"\"\n",
    "        num_test = X.shape[0]\n",
    "        Ypred = np.zeros(num_test, dtype=self.ytr.dtype)\n",
    "\n",
    "        # loop over all test rows and compute L1 distance\n",
    "        for i in range(num_test):\n",
    "            distances = np.sum(np.abs(self.Xtr - X[i, :]), axis=1)\n",
    "            min_index = np.argmin(distances)\n",
    "            # now we can get the label of the nearest example\n",
    "            Ypred[i] = self.ytr[min_index]\n",
    "\n",
    "        return Ypred"
   ]
  },
  {
   "cell_type": "code",
   "execution_count": 5,
   "metadata": {},
   "outputs": [
    {
     "data": {
      "text/plain": [
       "array([[0.82095139, 0.06914682, 0.45645868],\n",
       "       [1.17034272, 1.13949591, 1.6997633 ],\n",
       "       [2.06780303, 2.12844919, 2.04703132]])"
      ]
     },
     "execution_count": 5,
     "metadata": {},
     "output_type": "execute_result"
    }
   ],
   "source": [
    "# create some artificial data\n",
    "data = [np.random.random((1, 3)) + offset for offset in range(3)]\n",
    "X = np.vstack(data)\n",
    "X"
   ]
  },
  {
   "cell_type": "code",
   "execution_count": 6,
   "metadata": {},
   "outputs": [
    {
     "data": {
      "text/plain": [
       "array([[0],\n",
       "       [1],\n",
       "       [2]])"
      ]
     },
     "execution_count": 6,
     "metadata": {},
     "output_type": "execute_result"
    }
   ],
   "source": [
    "# create some labels for data\n",
    "y = np.arange(0, 3).reshape(3, 1)\n",
    "y"
   ]
  },
  {
   "cell_type": "code",
   "execution_count": 9,
   "metadata": {},
   "outputs": [],
   "source": [
    "# create and train the classifier\n",
    "nn = NearestNeighborClassifier()\n",
    "nn.train(X, y)"
   ]
  },
  {
   "cell_type": "code",
   "execution_count": 8,
   "metadata": {},
   "outputs": [
    {
     "data": {
      "text/plain": [
       "array([2, 0])"
      ]
     },
     "execution_count": 8,
     "metadata": {},
     "output_type": "execute_result"
    }
   ],
   "source": [
    "# create some test examples and find their nearest neighbor\n",
    "Xtest = np.array(([3, 3, 3], [0, 0, 0]))\n",
    "nn.predict(Xtest)"
   ]
  }
 ],
 "metadata": {
  "interpreter": {
   "hash": "082e9a3bcad0a290d0001e938aa60b99250c6c2ef33a923c00b70f9826caf4b7"
  },
  "kernelspec": {
   "display_name": "Python 3.8.5 64-bit",
   "name": "python3"
  },
  "language_info": {
   "codemirror_mode": {
    "name": "ipython",
    "version": 3
   },
   "file_extension": ".py",
   "mimetype": "text/x-python",
   "name": "python",
   "nbconvert_exporter": "python",
   "pygments_lexer": "ipython3",
   "version": "3.8.5"
  },
  "orig_nbformat": 4
 },
 "nbformat": 4,
 "nbformat_minor": 2
}
