{
 "cells": [
  {
   "cell_type": "code",
   "execution_count": null,
   "metadata": {},
   "outputs": [],
   "source": [
    "# nice demo based on https://drscotthawley.github.io/blog/posts/2023-06-12-RVQ.html"
   ]
  },
  {
   "cell_type": "code",
   "execution_count": 15,
   "metadata": {},
   "outputs": [],
   "source": [
    "import numpy as np \n",
    "import matplotlib.pyplot as plt"
   ]
  },
  {
   "cell_type": "code",
   "execution_count": 16,
   "metadata": {},
   "outputs": [],
   "source": [
    "np.random.seed(9) \n",
    "N_POINTS = 25\n",
    "DATA_MIN, DATA_MAX = -0.5, 0.5\n",
    "data = DATA_MIN + (DATA_MAX - DATA_MIN) * np.random.rand(N_POINTS, 2)"
   ]
  },
  {
   "cell_type": "code",
   "execution_count": 17,
   "metadata": {},
   "outputs": [
    {
     "data": {
      "image/png": "[encoded data removed]",
      "text/plain": [
       "<Figure size 300x300 with 1 Axes>"
      ]
     },
     "metadata": {},
     "output_type": "display_data"
    }
   ],
   "source": [
    "fig, ax = plt.subplots(figsize=(3,3))\n",
    "ax.set_xlim(DATA_MIN, DATA_MAX)\n",
    "ax.set_ylim(DATA_MIN, DATA_MAX)\n",
    "ax.set_xlabel('x')\n",
    "ax.set_ylabel('y')\n",
    "plt.scatter(data[:, 0], data[:, 1], s=16)\n",
    "plt.show()"
   ]
  },
  {
   "cell_type": "code",
   "execution_count": 19,
   "metadata": {},
   "outputs": [
    {
     "data": {
      "text/html": [
       "        <script type=\"text/javascript\">\n",
       "        window.PlotlyConfig = {MathJaxConfig: 'local'};\n",
       "        if (window.MathJax && window.MathJax.Hub && window.MathJax.Hub.Config) {window.MathJax.Hub.Config({SVG: {font: \"STIX-Web\"}});}\n",
       "        if (typeof require !== 'undefined') {\n",
       "        require.undef(\"plotly\");\n",
       "        requirejs.config({\n",
       "            paths: {\n",
       "                'plotly': ['https://cdn.plot.ly/plotly-2.24.1.min']\n",
       "            }\n",
       "        });\n",
       "        require(['plotly'], function(Plotly) {\n",
       "            window._Plotly = Plotly;\n",
       "        });\n",
       "        }\n",
       "        </script>\n",
       "        "
      ]
     },
     "metadata": {},
     "output_type": "display_data"
    }
   ],
   "source": [
    "import pandas as pd\n",
    "import plotly.io as pio\n",
    "pio.renderers.default='notebook'\n",
    "import plotly.express as px \n",
    "import plotly.graph_objs as go\n",
    "from plotly.offline import plot, iplot, init_notebook_mode\n",
    "init_notebook_mode(connected=True)"
   ]
  },
  {
   "cell_type": "code",
   "execution_count": 26,
   "metadata": {},
   "outputs": [
    {
     "ename": "ValueError",
     "evalue": "Mime type rendering requires nbformat>=4.2.0 but it is not installed",
     "output_type": "error",
     "traceback": [
      "\u001b[0;31m---------------------------------------------------------------------------\u001b[0m",
      "\u001b[0;31mValueError\u001b[0m                                Traceback (most recent call last)",
      "File \u001b[0;32m~/CODING/_archive/PYTHON/numpy_playground/.venv/lib/python3.11/site-packages/IPython/core/formatters.py:922\u001b[0m, in \u001b[0;36mIPythonDisplayFormatter.__call__\u001b[0;34m(self, obj)\u001b[0m\n\u001b[1;32m    920\u001b[0m method \u001b[39m=\u001b[39m get_real_method(obj, \u001b[39mself\u001b[39m\u001b[39m.\u001b[39mprint_method)\n\u001b[1;32m    921\u001b[0m \u001b[39mif\u001b[39;00m method \u001b[39mis\u001b[39;00m \u001b[39mnot\u001b[39;00m \u001b[39mNone\u001b[39;00m:\n\u001b[0;32m--> 922\u001b[0m     method()\n\u001b[1;32m    923\u001b[0m     \u001b[39mreturn\u001b[39;00m \u001b[39mTrue\u001b[39;00m\n",
      "File \u001b[0;32m~/CODING/_archive/PYTHON/numpy_playground/.venv/lib/python3.11/site-packages/plotly/basedatatypes.py:834\u001b[0m, in \u001b[0;36mBaseFigure._ipython_display_\u001b[0;34m(self)\u001b[0m\n\u001b[1;32m    831\u001b[0m \u001b[39mimport\u001b[39;00m \u001b[39mplotly\u001b[39;00m\u001b[39m.\u001b[39;00m\u001b[39mio\u001b[39;00m \u001b[39mas\u001b[39;00m \u001b[39mpio\u001b[39;00m\n\u001b[1;32m    833\u001b[0m \u001b[39mif\u001b[39;00m pio\u001b[39m.\u001b[39mrenderers\u001b[39m.\u001b[39mrender_on_display \u001b[39mand\u001b[39;00m pio\u001b[39m.\u001b[39mrenderers\u001b[39m.\u001b[39mdefault:\n\u001b[0;32m--> 834\u001b[0m     pio\u001b[39m.\u001b[39;49mshow(\u001b[39mself\u001b[39;49m)\n\u001b[1;32m    835\u001b[0m \u001b[39melse\u001b[39;00m:\n\u001b[1;32m    836\u001b[0m     \u001b[39mprint\u001b[39m(\u001b[39mrepr\u001b[39m(\u001b[39mself\u001b[39m))\n",
      "File \u001b[0;32m~/CODING/_archive/PYTHON/numpy_playground/.venv/lib/python3.11/site-packages/plotly/io/_renderers.py:396\u001b[0m, in \u001b[0;36mshow\u001b[0;34m(fig, renderer, validate, **kwargs)\u001b[0m\n\u001b[1;32m    391\u001b[0m         \u001b[39mraise\u001b[39;00m \u001b[39mValueError\u001b[39;00m(\n\u001b[1;32m    392\u001b[0m             \u001b[39m\"\u001b[39m\u001b[39mMime type rendering requires ipython but it is not installed\u001b[39m\u001b[39m\"\u001b[39m\n\u001b[1;32m    393\u001b[0m         )\n\u001b[1;32m    395\u001b[0m     \u001b[39mif\u001b[39;00m \u001b[39mnot\u001b[39;00m nbformat \u001b[39mor\u001b[39;00m Version(nbformat\u001b[39m.\u001b[39m__version__) \u001b[39m<\u001b[39m Version(\u001b[39m\"\u001b[39m\u001b[39m4.2.0\u001b[39m\u001b[39m\"\u001b[39m):\n\u001b[0;32m--> 396\u001b[0m         \u001b[39mraise\u001b[39;00m \u001b[39mValueError\u001b[39;00m(\n\u001b[1;32m    397\u001b[0m             \u001b[39m\"\u001b[39m\u001b[39mMime type rendering requires nbformat>=4.2.0 but it is not installed\u001b[39m\u001b[39m\"\u001b[39m\n\u001b[1;32m    398\u001b[0m         )\n\u001b[1;32m    400\u001b[0m     ipython_display\u001b[39m.\u001b[39mdisplay(bundle, raw\u001b[39m=\u001b[39m\u001b[39mTrue\u001b[39;00m)\n\u001b[1;32m    402\u001b[0m \u001b[39m# external renderers\u001b[39;00m\n",
      "\u001b[0;31mValueError\u001b[0m: Mime type rendering requires nbformat>=4.2.0 but it is not installed"
     ]
    },
    {
     "data": {
      "text/html": [
       "        <script type=\"text/javascript\">\n",
       "        window.PlotlyConfig = {MathJaxConfig: 'local'};\n",
       "        if (window.MathJax && window.MathJax.Hub && window.MathJax.Hub.Config) {window.MathJax.Hub.Config({SVG: {font: \"STIX-Web\"}});}\n",
       "        if (typeof require !== 'undefined') {\n",
       "        require.undef(\"plotly\");\n",
       "        requirejs.config({\n",
       "            paths: {\n",
       "                'plotly': ['https://cdn.plot.ly/plotly-2.24.1.min']\n",
       "            }\n",
       "        });\n",
       "        require(['plotly'], function(Plotly) {\n",
       "            window._Plotly = Plotly;\n",
       "        });\n",
       "        }\n",
       "        </script>\n",
       "        "
      ]
     },
     "metadata": {},
     "output_type": "display_data"
    },
    {
     "data": {
      "application/vnd.plotly.v1+json": {
       "config": {
        "plotlyServerURL": "https://plot.ly"
       },
       "data": [
        {
         "hovertemplate": "x=%{x}<br>y=%{y}<br>sizes=%{marker.size}<br>cluster=%{marker.color}<extra></extra>",
         "legendgroup": "",
         "marker": {
          "color": [
           -1,
           -1,
           -1,
           -1,
           -1,
           -1,
           -1,
           -1,
           -1,
           -1,
           -1,
           -1,
           -1,
           -1,
           -1,
           -1,
           -1,
           -1,
           -1,
           -1,
           -1,
           -1,
           -1,
           -1,
           -1,
           -1,
           -1,
           -1,
           -1,
           -1,
           -1,
           -1,
           -1,
           -1,
           -1,
           -1,
           -1,
           -1,
           -1,
           -1,
           -1,
           -1,
           -1,
           -1,
           -1,
           -1,
           -1,
           -1,
           -1,
           -1,
           -1,
           -1,
           -1,
           -1,
           -1,
           -1,
           -1,
           -1,
           -1,
           -1,
           -1,
           -1,
           -1,
           -1,
           -1,
           -1,
           -1,
           -1,
           -1,
           -1,
           -1,
           -1,
           -1,
           -1,
           -1,
           -1,
           -1,
           -1,
           -1,
           -1,
           -1,
           -1,
           -1,
           -1,
           -1,
           -1,
           -1,
           -1,
           -1,
           -1,
           -1,
           -1,
           -1,
           -1,
           -1,
           -1,
           -1,
           -1,
           -1,
           -1,
           0,
           1,
           2,
           3,
           4
          ],
          "coloraxis": "coloraxis",
          "size": [
           1,
           1,
           1,
           1,
           1,
           1,
           1,
           1,
           1,
           1,
           1,
           1,
           1,
           1,
           1,
           1,
           1,
           1,
           1,
           1,
           1,
           1,
           1,
           1,
           1,
           1,
           1,
           1,
           1,
           1,
           1,
           1,
           1,
           1,
           1,
           1,
           1,
           1,
           1,
           1,
           1,
           1,
           1,
           1,
           1,
           1,
           1,
           1,
           1,
           1,
           1,
           1,
           1,
           1,
           1,
           1,
           1,
           1,
           1,
           1,
           1,
           1,
           1,
           1,
           1,
           1,
           1,
           1,
           1,
           1,
           1,
           1,
           1,
           1,
           1,
           1,
           1,
           1,
           1,
           1,
           1,
           1,
           1,
           1,
           1,
           1,
           1,
           1,
           1,
           1,
           1,
           1,
           1,
           1,
           1,
           1,
           1,
           1,
           1,
           1,
           4,
           4,
           4,
           4,
           4
          ],
          "sizemode": "area",
          "sizeref": 0.01,
          "symbol": "circle"
         },
         "mode": "markers",
         "name": "",
         "orientation": "v",
         "showlegend": false,
         "type": "scatter",
         "x": [
          -0.082977995297426,
          -0.4998856251826551,
          -0.35324410918288696,
          -0.3137397886223291,
          -0.10323252576933006,
          -0.0808054855967052,
          -0.29554775026848257,
          -0.47261240680207384,
          -0.08269519763287303,
          -0.35961306140476623,
          0.30074456867553667,
          -0.18657582184075716,
          0.3763891522960383,
          -0.4149557886302221,
          -0.3301695804354311,
          -0.4016531661669499,
          0.45788953015050193,
          0.19187711395047335,
          0.18650092768158366,
          -0.4817117226558082,
          0.4888610889064947,
          -0.21955600793559482,
          -0.396773993422358,
          0.40859550309309556,
          -0.21222466141365126,
          -0.4806330421297029,
          -0.28837188399994096,
          -0.00842684071966171,
          0.07411760549201307,
          0.08930553690328424,
          -0.39766557117217416,
          0.1944001577277451,
          -0.45004654105391284,
          0.16379464521978881,
          0.44459475599081333,
          0.4034019152878835,
          -0.36072365274924145,
          -0.10232316301446642,
          0.4275085803960339,
          0.25081210313615554,
          0.38330609120580983,
          0.2509424340273372,
          -0.23007210823497393,
          -0.07190881012870509,
          0.16344149781844808,
          -0.3852540270466248,
          -0.050087866520059476,
          -0.09186319723871883,
          0.4033795205622538,
          -0.49712967296884103,
          -0.17335509822790385,
          0.3859420993107745,
          0.4085351509197992,
          -0.4841787571534437,
          0.19089691751692395,
          -0.32765949165467145,
          0.43259546303716356,
          -0.4339998272779375,
          0.2538761884612464,
          0.21152475862847175,
          -0.4801198661602044,
          -0.4716935119792054,
          0.360027948682888,
          0.05282197868576588,
          -0.37582668488008886,
          0.08575927145828788,
          0.06103021925570995,
          0.30063267268061633,
          0.30710519561877914,
          0.36354185455942867,
          0.056240233990418886,
          -0.44008231048778834,
          -0.4554481214552383,
          -0.2742906613921453,
          0.05971698205414244,
          -0.4280257203105132,
          0.06810046191994212,
          -0.24767425542967658,
          -0.3045705188906812,
          0.47001998908831233,
          -0.26015224085241384,
          0.11995571838137975,
          -0.34320860535391573,
          -0.42997785628077767,
          0.10632946165333035,
          -0.18263759067783925,
          0.07974521924579692,
          0.05094821911789682,
          0.1692328934531846,
          -0.43366516557155843,
          0.12971750702156448,
          0.25275555373881387,
          -0.23968490142145904,
          -0.30656571737667226,
          0.02467030912373369,
          -0.23670322951288902,
          0.23506596328866947,
          0.40781585250352403,
          -0.486048427024403,
          0.11677835700165762,
          0.27010567154824777,
          0.24936380985976475,
          -0.06599537151525225,
          0.06258628975198394,
          0.2557088560238722
         ],
         "xaxis": "x",
         "y": [
          0.2203244934421581,
          -0.19766742736816023,
          -0.4076614052312022,
          -0.15443927295695226,
          0.038816734003356945,
          0.1852195003967595,
          0.3781174363909454,
          0.17046751017840223,
          0.05868982844575166,
          -0.3018985109151212,
          0.4682615757193975,
          0.19232261566931408,
          0.3946066635038473,
          -0.46094521676711764,
          0.37814250342941313,
          -0.07889237499494783,
          0.03316528497301707,
          -0.18448436899393705,
          0.3346256718973729,
          0.25014431494496747,
          0.2481656543798394,
          0.2892793284514885,
          -0.052106473824094834,
          -0.2063858516263205,
          -0.3699714278817223,
          0.17883553293989096,
          -0.2344533406277738,
          -0.4466374548829196,
          -0.35327142509418985,
          0.19975836002093117,
          -0.08594401218043168,
          -0.08582073047309735,
          0.035896405915511576,
          0.014889112058308562,
          0.08655504050199292,
          -0.3625252958537625,
          0.3073912887095238,
          -0.3346458028830672,
          -0.15223414025449344,
          0.22599798535045146,
          0.12367220705560888,
          -0.15110165802215747,
          0.39588621819606684,
          0.46484004714838556,
          0.12169572020912178,
          0.44948925870707124,
          0.07838961438713177,
          -0.2629730197569723,
          0.07367948667228585,
          0.11714491362072388,
          0.027058102257609296,
          -0.14273023999750023,
          0.12336011579180273,
          0.4294372337437613,
          0.4973228504514805,
          -0.36286425037112224,
          0.19681816148990017,
          0.2554630526024664,
          0.42302453554648334,
          -0.3757290380278353,
          -0.4737890131222807,
          -0.2537889323969541,
          0.03883106434165284,
          0.3420308923596057,
          -0.2208163209888605,
          0.46959574831967454,
          -0.481352710627057,
          -0.26702572615897957,
          -0.11213935593582824,
          0.24712164273718462,
          -0.363544774339315,
          -0.37865654425926265,
          -0.3925058708939071,
          0.21298898038267666,
          -0.48744401984088415,
          0.467276330000272,
          -0.2967067653390095,
          0.24382585407509294,
          0.08135892727325778,
          0.34682880149003525,
          -0.006230285731270047,
          0.32898089955017873,
          -0.4814237978225905,
          -0.01365488906296819,
          0.06885143708648134,
          0.4886161544124489,
          -0.1198588273764496,
          0.2453344309065021,
          -0.2350804423371906,
          -0.1299158020858937,
          -0.2898259900851604,
          -0.43346351864588506,
          0.3047545637433454,
          0.13946088087994013,
          0.4248079703993507,
          -0.4340389093159762,
          0.27217802954324677,
          0.4319720691968373,
          -0.2656379138785795,
          0.44901632068761643,
          0.03399191291709386,
          0.08493972536780253,
          -0.008405599741854175,
          0.029728752905137545,
          0.2512400613801637
         ],
         "yaxis": "y"
        }
       ],
       "layout": {
        "coloraxis": {
         "cmax": 5,
         "cmin": -1,
         "colorbar": {
          "title": {
           "text": "cluster"
          }
         },
         "colorscale": [
          [
           0,
           "#30123b"
          ],
          [
           0.07142857142857142,
           "#4145ab"
          ],
          [
           0.14285714285714285,
           "#4675ed"
          ],
          [
           0.21428571428571427,
           "#39a2fc"
          ],
          [
           0.2857142857142857,
           "#1bcfd4"
          ],
          [
           0.35714285714285715,
           "#24eca6"
          ],
          [
           0.42857142857142855,
           "#61fc6c"
          ],
          [
           0.5,
           "#a4fc3b"
          ],
          [
           0.5714285714285714,
           "#d1e834"
          ],
          [
           0.6428571428571429,
           "#f3c63a"
          ],
          [
           0.7142857142857143,
           "#fe9b2d"
          ],
          [
           0.7857142857142857,
           "#f36315"
          ],
          [
           0.8571428571428571,
           "#d93806"
          ],
          [
           0.9285714285714286,
           "#b11901"
          ],
          [
           1,
           "#7a0402"
          ]
         ]
        },
        "height": 360,
        "legend": {
         "itemsizing": "constant",
         "tracegroupgap": 0
        },
        "margin": {
         "b": 20,
         "l": 20,
         "r": 20,
         "t": 20
        },
        "template": {
         "data": {
          "bar": [
           {
            "error_x": {
             "color": "#2a3f5f"
            },
            "error_y": {
             "color": "#2a3f5f"
            },
            "marker": {
             "line": {
              "color": "#E5ECF6",
              "width": 0.5
             },
             "pattern": {
              "fillmode": "overlay",
              "size": 10,
              "solidity": 0.2
             }
            },
            "type": "bar"
           }
          ],
          "barpolar": [
           {
            "marker": {
             "line": {
              "color": "#E5ECF6",
              "width": 0.5
             },
             "pattern": {
              "fillmode": "overlay",
              "size": 10,
              "solidity": 0.2
             }
            },
            "type": "barpolar"
           }
          ],
          "carpet": [
           {
            "aaxis": {
             "endlinecolor": "#2a3f5f",
             "gridcolor": "white",
             "linecolor": "white",
             "minorgridcolor": "white",
             "startlinecolor": "#2a3f5f"
            },
            "baxis": {
             "endlinecolor": "#2a3f5f",
             "gridcolor": "white",
             "linecolor": "white",
             "minorgridcolor": "white",
             "startlinecolor": "#2a3f5f"
            },
            "type": "carpet"
           }
          ],
          "choropleth": [
           {
            "colorbar": {
             "outlinewidth": 0,
             "ticks": ""
            },
            "type": "choropleth"
           }
          ],
          "contour": [
           {
            "colorbar": {
             "outlinewidth": 0,
             "ticks": ""
            },
            "colorscale": [
             [
              0,
              "#0d0887"
             ],
             [
              0.1111111111111111,
              "#46039f"
             ],
             [
              0.2222222222222222,
              "#7201a8"
             ],
             [
              0.3333333333333333,
              "#9c179e"
             ],
             [
              0.4444444444444444,
              "#bd3786"
             ],
             [
              0.5555555555555556,
              "#d8576b"
             ],
             [
              0.6666666666666666,
              "#ed7953"
             ],
             [
              0.7777777777777778,
              "#fb9f3a"
             ],
             [
              0.8888888888888888,
              "#fdca26"
             ],
             [
              1,
              "#f0f921"
             ]
            ],
            "type": "contour"
           }
          ],
          "contourcarpet": [
           {
            "colorbar": {
             "outlinewidth": 0,
             "ticks": ""
            },
            "type": "contourcarpet"
           }
          ],
          "heatmap": [
           {
            "colorbar": {
             "outlinewidth": 0,
             "ticks": ""
            },
            "colorscale": [
             [
              0,
              "#0d0887"
             ],
             [
              0.1111111111111111,
              "#46039f"
             ],
             [
              0.2222222222222222,
              "#7201a8"
             ],
             [
              0.3333333333333333,
              "#9c179e"
             ],
             [
              0.4444444444444444,
              "#bd3786"
             ],
             [
              0.5555555555555556,
              "#d8576b"
             ],
             [
              0.6666666666666666,
              "#ed7953"
             ],
             [
              0.7777777777777778,
              "#fb9f3a"
             ],
             [
              0.8888888888888888,
              "#fdca26"
             ],
             [
              1,
              "#f0f921"
             ]
            ],
            "type": "heatmap"
           }
          ],
          "heatmapgl": [
           {
            "colorbar": {
             "outlinewidth": 0,
             "ticks": ""
            },
            "colorscale": [
             [
              0,
              "#0d0887"
             ],
             [
              0.1111111111111111,
              "#46039f"
             ],
             [
              0.2222222222222222,
              "#7201a8"
             ],
             [
              0.3333333333333333,
              "#9c179e"
             ],
             [
              0.4444444444444444,
              "#bd3786"
             ],
             [
              0.5555555555555556,
              "#d8576b"
             ],
             [
              0.6666666666666666,
              "#ed7953"
             ],
             [
              0.7777777777777778,
              "#fb9f3a"
             ],
             [
              0.8888888888888888,
              "#fdca26"
             ],
             [
              1,
              "#f0f921"
             ]
            ],
            "type": "heatmapgl"
           }
          ],
          "histogram": [
           {
            "marker": {
             "pattern": {
              "fillmode": "overlay",
              "size": 10,
              "solidity": 0.2
             }
            },
            "type": "histogram"
           }
          ],
          "histogram2d": [
           {
            "colorbar": {
             "outlinewidth": 0,
             "ticks": ""
            },
            "colorscale": [
             [
              0,
              "#0d0887"
             ],
             [
              0.1111111111111111,
              "#46039f"
             ],
             [
              0.2222222222222222,
              "#7201a8"
             ],
             [
              0.3333333333333333,
              "#9c179e"
             ],
             [
              0.4444444444444444,
              "#bd3786"
             ],
             [
              0.5555555555555556,
              "#d8576b"
             ],
             [
              0.6666666666666666,
              "#ed7953"
             ],
             [
              0.7777777777777778,
              "#fb9f3a"
             ],
             [
              0.8888888888888888,
              "#fdca26"
             ],
             [
              1,
              "#f0f921"
             ]
            ],
            "type": "histogram2d"
           }
          ],
          "histogram2dcontour": [
           {
            "colorbar": {
             "outlinewidth": 0,
             "ticks": ""
            },
            "colorscale": [
             [
              0,
              "#0d0887"
             ],
             [
              0.1111111111111111,
              "#46039f"
             ],
             [
              0.2222222222222222,
              "#7201a8"
             ],
             [
              0.3333333333333333,
              "#9c179e"
             ],
             [
              0.4444444444444444,
              "#bd3786"
             ],
             [
              0.5555555555555556,
              "#d8576b"
             ],
             [
              0.6666666666666666,
              "#ed7953"
             ],
             [
              0.7777777777777778,
              "#fb9f3a"
             ],
             [
              0.8888888888888888,
              "#fdca26"
             ],
             [
              1,
              "#f0f921"
             ]
            ],
            "type": "histogram2dcontour"
           }
          ],
          "mesh3d": [
           {
            "colorbar": {
             "outlinewidth": 0,
             "ticks": ""
            },
            "type": "mesh3d"
           }
          ],
          "parcoords": [
           {
            "line": {
             "colorbar": {
              "outlinewidth": 0,
              "ticks": ""
             }
            },
            "type": "parcoords"
           }
          ],
          "pie": [
           {
            "automargin": true,
            "type": "pie"
           }
          ],
          "scatter": [
           {
            "fillpattern": {
             "fillmode": "overlay",
             "size": 10,
             "solidity": 0.2
            },
            "type": "scatter"
           }
          ],
          "scatter3d": [
           {
            "line": {
             "colorbar": {
              "outlinewidth": 0,
              "ticks": ""
             }
            },
            "marker": {
             "colorbar": {
              "outlinewidth": 0,
              "ticks": ""
             }
            },
            "type": "scatter3d"
           }
          ],
          "scattercarpet": [
           {
            "marker": {
             "colorbar": {
              "outlinewidth": 0,
              "ticks": ""
             }
            },
            "type": "scattercarpet"
           }
          ],
          "scattergeo": [
           {
            "marker": {
             "colorbar": {
              "outlinewidth": 0,
              "ticks": ""
             }
            },
            "type": "scattergeo"
           }
          ],
          "scattergl": [
           {
            "marker": {
             "colorbar": {
              "outlinewidth": 0,
              "ticks": ""
             }
            },
            "type": "scattergl"
           }
          ],
          "scattermapbox": [
           {
            "marker": {
             "colorbar": {
              "outlinewidth": 0,
              "ticks": ""
             }
            },
            "type": "scattermapbox"
           }
          ],
          "scatterpolar": [
           {
            "marker": {
             "colorbar": {
              "outlinewidth": 0,
              "ticks": ""
             }
            },
            "type": "scatterpolar"
           }
          ],
          "scatterpolargl": [
           {
            "marker": {
             "colorbar": {
              "outlinewidth": 0,
              "ticks": ""
             }
            },
            "type": "scatterpolargl"
           }
          ],
          "scatterternary": [
           {
            "marker": {
             "colorbar": {
              "outlinewidth": 0,
              "ticks": ""
             }
            },
            "type": "scatterternary"
           }
          ],
          "surface": [
           {
            "colorbar": {
             "outlinewidth": 0,
             "ticks": ""
            },
            "colorscale": [
             [
              0,
              "#0d0887"
             ],
             [
              0.1111111111111111,
              "#46039f"
             ],
             [
              0.2222222222222222,
              "#7201a8"
             ],
             [
              0.3333333333333333,
              "#9c179e"
             ],
             [
              0.4444444444444444,
              "#bd3786"
             ],
             [
              0.5555555555555556,
              "#d8576b"
             ],
             [
              0.6666666666666666,
              "#ed7953"
             ],
             [
              0.7777777777777778,
              "#fb9f3a"
             ],
             [
              0.8888888888888888,
              "#fdca26"
             ],
             [
              1,
              "#f0f921"
             ]
            ],
            "type": "surface"
           }
          ],
          "table": [
           {
            "cells": {
             "fill": {
              "color": "#EBF0F8"
             },
             "line": {
              "color": "white"
             }
            },
            "header": {
             "fill": {
              "color": "#C8D4E3"
             },
             "line": {
              "color": "white"
             }
            },
            "type": "table"
           }
          ]
         },
         "layout": {
          "annotationdefaults": {
           "arrowcolor": "#2a3f5f",
           "arrowhead": 0,
           "arrowwidth": 1
          },
          "autotypenumbers": "strict",
          "coloraxis": {
           "colorbar": {
            "outlinewidth": 0,
            "ticks": ""
           }
          },
          "colorscale": {
           "diverging": [
            [
             0,
             "#8e0152"
            ],
            [
             0.1,
             "#c51b7d"
            ],
            [
             0.2,
             "#de77ae"
            ],
            [
             0.3,
             "#f1b6da"
            ],
            [
             0.4,
             "#fde0ef"
            ],
            [
             0.5,
             "#f7f7f7"
            ],
            [
             0.6,
             "#e6f5d0"
            ],
            [
             0.7,
             "#b8e186"
            ],
            [
             0.8,
             "#7fbc41"
            ],
            [
             0.9,
             "#4d9221"
            ],
            [
             1,
             "#276419"
            ]
           ],
           "sequential": [
            [
             0,
             "#0d0887"
            ],
            [
             0.1111111111111111,
             "#46039f"
            ],
            [
             0.2222222222222222,
             "#7201a8"
            ],
            [
             0.3333333333333333,
             "#9c179e"
            ],
            [
             0.4444444444444444,
             "#bd3786"
            ],
            [
             0.5555555555555556,
             "#d8576b"
            ],
            [
             0.6666666666666666,
             "#ed7953"
            ],
            [
             0.7777777777777778,
             "#fb9f3a"
            ],
            [
             0.8888888888888888,
             "#fdca26"
            ],
            [
             1,
             "#f0f921"
            ]
           ],
           "sequentialminus": [
            [
             0,
             "#0d0887"
            ],
            [
             0.1111111111111111,
             "#46039f"
            ],
            [
             0.2222222222222222,
             "#7201a8"
            ],
            [
             0.3333333333333333,
             "#9c179e"
            ],
            [
             0.4444444444444444,
             "#bd3786"
            ],
            [
             0.5555555555555556,
             "#d8576b"
            ],
            [
             0.6666666666666666,
             "#ed7953"
            ],
            [
             0.7777777777777778,
             "#fb9f3a"
            ],
            [
             0.8888888888888888,
             "#fdca26"
            ],
            [
             1,
             "#f0f921"
            ]
           ]
          },
          "colorway": [
           "#636efa",
           "#EF553B",
           "#00cc96",
           "#ab63fa",
           "#FFA15A",
           "#19d3f3",
           "#FF6692",
           "#B6E880",
           "#FF97FF",
           "#FECB52"
          ],
          "font": {
           "color": "#2a3f5f"
          },
          "geo": {
           "bgcolor": "white",
           "lakecolor": "white",
           "landcolor": "#E5ECF6",
           "showlakes": true,
           "showland": true,
           "subunitcolor": "white"
          },
          "hoverlabel": {
           "align": "left"
          },
          "hovermode": "closest",
          "mapbox": {
           "style": "light"
          },
          "paper_bgcolor": "white",
          "plot_bgcolor": "#E5ECF6",
          "polar": {
           "angularaxis": {
            "gridcolor": "white",
            "linecolor": "white",
            "ticks": ""
           },
           "bgcolor": "#E5ECF6",
           "radialaxis": {
            "gridcolor": "white",
            "linecolor": "white",
            "ticks": ""
           }
          },
          "scene": {
           "xaxis": {
            "backgroundcolor": "#E5ECF6",
            "gridcolor": "white",
            "gridwidth": 2,
            "linecolor": "white",
            "showbackground": true,
            "ticks": "",
            "zerolinecolor": "white"
           },
           "yaxis": {
            "backgroundcolor": "#E5ECF6",
            "gridcolor": "white",
            "gridwidth": 2,
            "linecolor": "white",
            "showbackground": true,
            "ticks": "",
            "zerolinecolor": "white"
           },
           "zaxis": {
            "backgroundcolor": "#E5ECF6",
            "gridcolor": "white",
            "gridwidth": 2,
            "linecolor": "white",
            "showbackground": true,
            "ticks": "",
            "zerolinecolor": "white"
           }
          },
          "shapedefaults": {
           "line": {
            "color": "#2a3f5f"
           }
          },
          "ternary": {
           "aaxis": {
            "gridcolor": "white",
            "linecolor": "white",
            "ticks": ""
           },
           "baxis": {
            "gridcolor": "white",
            "linecolor": "white",
            "ticks": ""
           },
           "bgcolor": "#E5ECF6",
           "caxis": {
            "gridcolor": "white",
            "linecolor": "white",
            "ticks": ""
           }
          },
          "title": {
           "x": 0.05
          },
          "xaxis": {
           "automargin": true,
           "gridcolor": "white",
           "linecolor": "white",
           "ticks": "",
           "title": {
            "standoff": 15
           },
           "zerolinecolor": "white",
           "zerolinewidth": 2
          },
          "yaxis": {
           "automargin": true,
           "gridcolor": "white",
           "linecolor": "white",
           "ticks": "",
           "title": {
            "standoff": 15
           },
           "zerolinecolor": "white",
           "zerolinewidth": 2
          }
         }
        },
        "width": 420,
        "xaxis": {
         "anchor": "y",
         "domain": [
          0,
          1
         ],
         "title": {
          "text": "x"
         }
        },
        "yaxis": {
         "anchor": "x",
         "domain": [
          0,
          1
         ],
         "title": {
          "text": "y"
         }
        }
       }
      },
      "text/html": [
       "<div>                            <div id=\"804b616b-0206-4708-b028-d4f3bb926079\" class=\"plotly-graph-div\" style=\"height:360px; width:420px;\"></div>            <script type=\"text/javascript\">                require([\"plotly\"], function(Plotly) {                    window.PLOTLYENV=window.PLOTLYENV || {};                                    if (document.getElementById(\"804b616b-0206-4708-b028-d4f3bb926079\")) {                    Plotly.newPlot(                        \"804b616b-0206-4708-b028-d4f3bb926079\",                        [{\"hovertemplate\":\"x=%{x}\\u003cbr\\u003ey=%{y}\\u003cbr\\u003esizes=%{marker.size}\\u003cbr\\u003ecluster=%{marker.color}\\u003cextra\\u003e\\u003c\\u002fextra\\u003e\",\"legendgroup\":\"\",\"marker\":{\"color\":[-1.0,-1.0,-1.0,-1.0,-1.0,-1.0,-1.0,-1.0,-1.0,-1.0,-1.0,-1.0,-1.0,-1.0,-1.0,-1.0,-1.0,-1.0,-1.0,-1.0,-1.0,-1.0,-1.0,-1.0,-1.0,-1.0,-1.0,-1.0,-1.0,-1.0,-1.0,-1.0,-1.0,-1.0,-1.0,-1.0,-1.0,-1.0,-1.0,-1.0,-1.0,-1.0,-1.0,-1.0,-1.0,-1.0,-1.0,-1.0,-1.0,-1.0,-1.0,-1.0,-1.0,-1.0,-1.0,-1.0,-1.0,-1.0,-1.0,-1.0,-1.0,-1.0,-1.0,-1.0,-1.0,-1.0,-1.0,-1.0,-1.0,-1.0,-1.0,-1.0,-1.0,-1.0,-1.0,-1.0,-1.0,-1.0,-1.0,-1.0,-1.0,-1.0,-1.0,-1.0,-1.0,-1.0,-1.0,-1.0,-1.0,-1.0,-1.0,-1.0,-1.0,-1.0,-1.0,-1.0,-1.0,-1.0,-1.0,-1.0,0.0,1.0,2.0,3.0,4.0],\"coloraxis\":\"coloraxis\",\"size\":[1.0,1.0,1.0,1.0,1.0,1.0,1.0,1.0,1.0,1.0,1.0,1.0,1.0,1.0,1.0,1.0,1.0,1.0,1.0,1.0,1.0,1.0,1.0,1.0,1.0,1.0,1.0,1.0,1.0,1.0,1.0,1.0,1.0,1.0,1.0,1.0,1.0,1.0,1.0,1.0,1.0,1.0,1.0,1.0,1.0,1.0,1.0,1.0,1.0,1.0,1.0,1.0,1.0,1.0,1.0,1.0,1.0,1.0,1.0,1.0,1.0,1.0,1.0,1.0,1.0,1.0,1.0,1.0,1.0,1.0,1.0,1.0,1.0,1.0,1.0,1.0,1.0,1.0,1.0,1.0,1.0,1.0,1.0,1.0,1.0,1.0,1.0,1.0,1.0,1.0,1.0,1.0,1.0,1.0,1.0,1.0,1.0,1.0,1.0,1.0,4.0,4.0,4.0,4.0,4.0],\"sizemode\":\"area\",\"sizeref\":0.01,\"symbol\":\"circle\"},\"mode\":\"markers\",\"name\":\"\",\"orientation\":\"v\",\"showlegend\":false,\"x\":[-0.082977995297426,-0.4998856251826551,-0.35324410918288696,-0.3137397886223291,-0.10323252576933006,-0.0808054855967052,-0.29554775026848257,-0.47261240680207384,-0.08269519763287303,-0.35961306140476623,0.30074456867553667,-0.18657582184075716,0.3763891522960383,-0.4149557886302221,-0.3301695804354311,-0.4016531661669499,0.45788953015050193,0.19187711395047335,0.18650092768158366,-0.4817117226558082,0.4888610889064947,-0.21955600793559482,-0.396773993422358,0.40859550309309556,-0.21222466141365126,-0.4806330421297029,-0.28837188399994096,-0.00842684071966171,0.07411760549201307,0.08930553690328424,-0.39766557117217416,0.1944001577277451,-0.45004654105391284,0.16379464521978881,0.44459475599081333,0.4034019152878835,-0.36072365274924145,-0.10232316301446642,0.4275085803960339,0.25081210313615554,0.38330609120580983,0.2509424340273372,-0.23007210823497393,-0.07190881012870509,0.16344149781844808,-0.3852540270466248,-0.050087866520059476,-0.09186319723871883,0.4033795205622538,-0.49712967296884103,-0.17335509822790385,0.3859420993107745,0.4085351509197992,-0.4841787571534437,0.19089691751692395,-0.32765949165467145,0.43259546303716356,-0.4339998272779375,0.2538761884612464,0.21152475862847175,-0.4801198661602044,-0.4716935119792054,0.360027948682888,0.05282197868576588,-0.37582668488008886,0.08575927145828788,0.06103021925570995,0.30063267268061633,0.30710519561877914,0.36354185455942867,0.056240233990418886,-0.44008231048778834,-0.4554481214552383,-0.2742906613921453,0.05971698205414244,-0.4280257203105132,0.06810046191994212,-0.24767425542967658,-0.3045705188906812,0.47001998908831233,-0.26015224085241384,0.11995571838137975,-0.34320860535391573,-0.42997785628077767,0.10632946165333035,-0.18263759067783925,0.07974521924579692,0.05094821911789682,0.1692328934531846,-0.43366516557155843,0.12971750702156448,0.25275555373881387,-0.23968490142145904,-0.30656571737667226,0.02467030912373369,-0.23670322951288902,0.23506596328866947,0.40781585250352403,-0.486048427024403,0.11677835700165762,0.27010567154824777,0.24936380985976475,-0.06599537151525225,0.06258628975198394,0.2557088560238722],\"xaxis\":\"x\",\"y\":[0.2203244934421581,-0.19766742736816023,-0.4076614052312022,-0.15443927295695226,0.038816734003356945,0.1852195003967595,0.3781174363909454,0.17046751017840223,0.05868982844575166,-0.3018985109151212,0.4682615757193975,0.19232261566931408,0.3946066635038473,-0.46094521676711764,0.37814250342941313,-0.07889237499494783,0.03316528497301707,-0.18448436899393705,0.3346256718973729,0.25014431494496747,0.2481656543798394,0.2892793284514885,-0.052106473824094834,-0.2063858516263205,-0.3699714278817223,0.17883553293989096,-0.2344533406277738,-0.4466374548829196,-0.35327142509418985,0.19975836002093117,-0.08594401218043168,-0.08582073047309735,0.035896405915511576,0.014889112058308562,0.08655504050199292,-0.3625252958537625,0.3073912887095238,-0.3346458028830672,-0.15223414025449344,0.22599798535045146,0.12367220705560888,-0.15110165802215747,0.39588621819606684,0.46484004714838556,0.12169572020912178,0.44948925870707124,0.07838961438713177,-0.2629730197569723,0.07367948667228585,0.11714491362072388,0.027058102257609296,-0.14273023999750023,0.12336011579180273,0.4294372337437613,0.4973228504514805,-0.36286425037112224,0.19681816148990017,0.2554630526024664,0.42302453554648334,-0.3757290380278353,-0.4737890131222807,-0.2537889323969541,0.03883106434165284,0.3420308923596057,-0.2208163209888605,0.46959574831967454,-0.481352710627057,-0.26702572615897957,-0.11213935593582824,0.24712164273718462,-0.363544774339315,-0.37865654425926265,-0.3925058708939071,0.21298898038267666,-0.48744401984088415,0.467276330000272,-0.2967067653390095,0.24382585407509294,0.08135892727325778,0.34682880149003525,-0.006230285731270047,0.32898089955017873,-0.4814237978225905,-0.01365488906296819,0.06885143708648134,0.4886161544124489,-0.1198588273764496,0.2453344309065021,-0.2350804423371906,-0.1299158020858937,-0.2898259900851604,-0.43346351864588506,0.3047545637433454,0.13946088087994013,0.4248079703993507,-0.4340389093159762,0.27217802954324677,0.4319720691968373,-0.2656379138785795,0.44901632068761643,0.03399191291709386,0.08493972536780253,-0.008405599741854175,0.029728752905137545,0.2512400613801637],\"yaxis\":\"y\",\"type\":\"scatter\"}],                        {\"template\":{\"data\":{\"histogram2dcontour\":[{\"type\":\"histogram2dcontour\",\"colorbar\":{\"outlinewidth\":0,\"ticks\":\"\"},\"colorscale\":[[0.0,\"#0d0887\"],[0.1111111111111111,\"#46039f\"],[0.2222222222222222,\"#7201a8\"],[0.3333333333333333,\"#9c179e\"],[0.4444444444444444,\"#bd3786\"],[0.5555555555555556,\"#d8576b\"],[0.6666666666666666,\"#ed7953\"],[0.7777777777777778,\"#fb9f3a\"],[0.8888888888888888,\"#fdca26\"],[1.0,\"#f0f921\"]]}],\"choropleth\":[{\"type\":\"choropleth\",\"colorbar\":{\"outlinewidth\":0,\"ticks\":\"\"}}],\"histogram2d\":[{\"type\":\"histogram2d\",\"colorbar\":{\"outlinewidth\":0,\"ticks\":\"\"},\"colorscale\":[[0.0,\"#0d0887\"],[0.1111111111111111,\"#46039f\"],[0.2222222222222222,\"#7201a8\"],[0.3333333333333333,\"#9c179e\"],[0.4444444444444444,\"#bd3786\"],[0.5555555555555556,\"#d8576b\"],[0.6666666666666666,\"#ed7953\"],[0.7777777777777778,\"#fb9f3a\"],[0.8888888888888888,\"#fdca26\"],[1.0,\"#f0f921\"]]}],\"heatmap\":[{\"type\":\"heatmap\",\"colorbar\":{\"outlinewidth\":0,\"ticks\":\"\"},\"colorscale\":[[0.0,\"#0d0887\"],[0.1111111111111111,\"#46039f\"],[0.2222222222222222,\"#7201a8\"],[0.3333333333333333,\"#9c179e\"],[0.4444444444444444,\"#bd3786\"],[0.5555555555555556,\"#d8576b\"],[0.6666666666666666,\"#ed7953\"],[0.7777777777777778,\"#fb9f3a\"],[0.8888888888888888,\"#fdca26\"],[1.0,\"#f0f921\"]]}],\"heatmapgl\":[{\"type\":\"heatmapgl\",\"colorbar\":{\"outlinewidth\":0,\"ticks\":\"\"},\"colorscale\":[[0.0,\"#0d0887\"],[0.1111111111111111,\"#46039f\"],[0.2222222222222222,\"#7201a8\"],[0.3333333333333333,\"#9c179e\"],[0.4444444444444444,\"#bd3786\"],[0.5555555555555556,\"#d8576b\"],[0.6666666666666666,\"#ed7953\"],[0.7777777777777778,\"#fb9f3a\"],[0.8888888888888888,\"#fdca26\"],[1.0,\"#f0f921\"]]}],\"contourcarpet\":[{\"type\":\"contourcarpet\",\"colorbar\":{\"outlinewidth\":0,\"ticks\":\"\"}}],\"contour\":[{\"type\":\"contour\",\"colorbar\":{\"outlinewidth\":0,\"ticks\":\"\"},\"colorscale\":[[0.0,\"#0d0887\"],[0.1111111111111111,\"#46039f\"],[0.2222222222222222,\"#7201a8\"],[0.3333333333333333,\"#9c179e\"],[0.4444444444444444,\"#bd3786\"],[0.5555555555555556,\"#d8576b\"],[0.6666666666666666,\"#ed7953\"],[0.7777777777777778,\"#fb9f3a\"],[0.8888888888888888,\"#fdca26\"],[1.0,\"#f0f921\"]]}],\"surface\":[{\"type\":\"surface\",\"colorbar\":{\"outlinewidth\":0,\"ticks\":\"\"},\"colorscale\":[[0.0,\"#0d0887\"],[0.1111111111111111,\"#46039f\"],[0.2222222222222222,\"#7201a8\"],[0.3333333333333333,\"#9c179e\"],[0.4444444444444444,\"#bd3786\"],[0.5555555555555556,\"#d8576b\"],[0.6666666666666666,\"#ed7953\"],[0.7777777777777778,\"#fb9f3a\"],[0.8888888888888888,\"#fdca26\"],[1.0,\"#f0f921\"]]}],\"mesh3d\":[{\"type\":\"mesh3d\",\"colorbar\":{\"outlinewidth\":0,\"ticks\":\"\"}}],\"scatter\":[{\"fillpattern\":{\"fillmode\":\"overlay\",\"size\":10,\"solidity\":0.2},\"type\":\"scatter\"}],\"parcoords\":[{\"type\":\"parcoords\",\"line\":{\"colorbar\":{\"outlinewidth\":0,\"ticks\":\"\"}}}],\"scatterpolargl\":[{\"type\":\"scatterpolargl\",\"marker\":{\"colorbar\":{\"outlinewidth\":0,\"ticks\":\"\"}}}],\"bar\":[{\"error_x\":{\"color\":\"#2a3f5f\"},\"error_y\":{\"color\":\"#2a3f5f\"},\"marker\":{\"line\":{\"color\":\"#E5ECF6\",\"width\":0.5},\"pattern\":{\"fillmode\":\"overlay\",\"size\":10,\"solidity\":0.2}},\"type\":\"bar\"}],\"scattergeo\":[{\"type\":\"scattergeo\",\"marker\":{\"colorbar\":{\"outlinewidth\":0,\"ticks\":\"\"}}}],\"scatterpolar\":[{\"type\":\"scatterpolar\",\"marker\":{\"colorbar\":{\"outlinewidth\":0,\"ticks\":\"\"}}}],\"histogram\":[{\"marker\":{\"pattern\":{\"fillmode\":\"overlay\",\"size\":10,\"solidity\":0.2}},\"type\":\"histogram\"}],\"scattergl\":[{\"type\":\"scattergl\",\"marker\":{\"colorbar\":{\"outlinewidth\":0,\"ticks\":\"\"}}}],\"scatter3d\":[{\"type\":\"scatter3d\",\"line\":{\"colorbar\":{\"outlinewidth\":0,\"ticks\":\"\"}},\"marker\":{\"colorbar\":{\"outlinewidth\":0,\"ticks\":\"\"}}}],\"scattermapbox\":[{\"type\":\"scattermapbox\",\"marker\":{\"colorbar\":{\"outlinewidth\":0,\"ticks\":\"\"}}}],\"scatterternary\":[{\"type\":\"scatterternary\",\"marker\":{\"colorbar\":{\"outlinewidth\":0,\"ticks\":\"\"}}}],\"scattercarpet\":[{\"type\":\"scattercarpet\",\"marker\":{\"colorbar\":{\"outlinewidth\":0,\"ticks\":\"\"}}}],\"carpet\":[{\"aaxis\":{\"endlinecolor\":\"#2a3f5f\",\"gridcolor\":\"white\",\"linecolor\":\"white\",\"minorgridcolor\":\"white\",\"startlinecolor\":\"#2a3f5f\"},\"baxis\":{\"endlinecolor\":\"#2a3f5f\",\"gridcolor\":\"white\",\"linecolor\":\"white\",\"minorgridcolor\":\"white\",\"startlinecolor\":\"#2a3f5f\"},\"type\":\"carpet\"}],\"table\":[{\"cells\":{\"fill\":{\"color\":\"#EBF0F8\"},\"line\":{\"color\":\"white\"}},\"header\":{\"fill\":{\"color\":\"#C8D4E3\"},\"line\":{\"color\":\"white\"}},\"type\":\"table\"}],\"barpolar\":[{\"marker\":{\"line\":{\"color\":\"#E5ECF6\",\"width\":0.5},\"pattern\":{\"fillmode\":\"overlay\",\"size\":10,\"solidity\":0.2}},\"type\":\"barpolar\"}],\"pie\":[{\"automargin\":true,\"type\":\"pie\"}]},\"layout\":{\"autotypenumbers\":\"strict\",\"colorway\":[\"#636efa\",\"#EF553B\",\"#00cc96\",\"#ab63fa\",\"#FFA15A\",\"#19d3f3\",\"#FF6692\",\"#B6E880\",\"#FF97FF\",\"#FECB52\"],\"font\":{\"color\":\"#2a3f5f\"},\"hovermode\":\"closest\",\"hoverlabel\":{\"align\":\"left\"},\"paper_bgcolor\":\"white\",\"plot_bgcolor\":\"#E5ECF6\",\"polar\":{\"bgcolor\":\"#E5ECF6\",\"angularaxis\":{\"gridcolor\":\"white\",\"linecolor\":\"white\",\"ticks\":\"\"},\"radialaxis\":{\"gridcolor\":\"white\",\"linecolor\":\"white\",\"ticks\":\"\"}},\"ternary\":{\"bgcolor\":\"#E5ECF6\",\"aaxis\":{\"gridcolor\":\"white\",\"linecolor\":\"white\",\"ticks\":\"\"},\"baxis\":{\"gridcolor\":\"white\",\"linecolor\":\"white\",\"ticks\":\"\"},\"caxis\":{\"gridcolor\":\"white\",\"linecolor\":\"white\",\"ticks\":\"\"}},\"coloraxis\":{\"colorbar\":{\"outlinewidth\":0,\"ticks\":\"\"}},\"colorscale\":{\"sequential\":[[0.0,\"#0d0887\"],[0.1111111111111111,\"#46039f\"],[0.2222222222222222,\"#7201a8\"],[0.3333333333333333,\"#9c179e\"],[0.4444444444444444,\"#bd3786\"],[0.5555555555555556,\"#d8576b\"],[0.6666666666666666,\"#ed7953\"],[0.7777777777777778,\"#fb9f3a\"],[0.8888888888888888,\"#fdca26\"],[1.0,\"#f0f921\"]],\"sequentialminus\":[[0.0,\"#0d0887\"],[0.1111111111111111,\"#46039f\"],[0.2222222222222222,\"#7201a8\"],[0.3333333333333333,\"#9c179e\"],[0.4444444444444444,\"#bd3786\"],[0.5555555555555556,\"#d8576b\"],[0.6666666666666666,\"#ed7953\"],[0.7777777777777778,\"#fb9f3a\"],[0.8888888888888888,\"#fdca26\"],[1.0,\"#f0f921\"]],\"diverging\":[[0,\"#8e0152\"],[0.1,\"#c51b7d\"],[0.2,\"#de77ae\"],[0.3,\"#f1b6da\"],[0.4,\"#fde0ef\"],[0.5,\"#f7f7f7\"],[0.6,\"#e6f5d0\"],[0.7,\"#b8e186\"],[0.8,\"#7fbc41\"],[0.9,\"#4d9221\"],[1,\"#276419\"]]},\"xaxis\":{\"gridcolor\":\"white\",\"linecolor\":\"white\",\"ticks\":\"\",\"title\":{\"standoff\":15},\"zerolinecolor\":\"white\",\"automargin\":true,\"zerolinewidth\":2},\"yaxis\":{\"gridcolor\":\"white\",\"linecolor\":\"white\",\"ticks\":\"\",\"title\":{\"standoff\":15},\"zerolinecolor\":\"white\",\"automargin\":true,\"zerolinewidth\":2},\"scene\":{\"xaxis\":{\"backgroundcolor\":\"#E5ECF6\",\"gridcolor\":\"white\",\"linecolor\":\"white\",\"showbackground\":true,\"ticks\":\"\",\"zerolinecolor\":\"white\",\"gridwidth\":2},\"yaxis\":{\"backgroundcolor\":\"#E5ECF6\",\"gridcolor\":\"white\",\"linecolor\":\"white\",\"showbackground\":true,\"ticks\":\"\",\"zerolinecolor\":\"white\",\"gridwidth\":2},\"zaxis\":{\"backgroundcolor\":\"#E5ECF6\",\"gridcolor\":\"white\",\"linecolor\":\"white\",\"showbackground\":true,\"ticks\":\"\",\"zerolinecolor\":\"white\",\"gridwidth\":2}},\"shapedefaults\":{\"line\":{\"color\":\"#2a3f5f\"}},\"annotationdefaults\":{\"arrowcolor\":\"#2a3f5f\",\"arrowhead\":0,\"arrowwidth\":1},\"geo\":{\"bgcolor\":\"white\",\"landcolor\":\"#E5ECF6\",\"subunitcolor\":\"white\",\"showland\":true,\"showlakes\":true,\"lakecolor\":\"white\"},\"title\":{\"x\":0.05},\"mapbox\":{\"style\":\"light\"}}},\"xaxis\":{\"anchor\":\"y\",\"domain\":[0.0,1.0],\"title\":{\"text\":\"x\"}},\"yaxis\":{\"anchor\":\"x\",\"domain\":[0.0,1.0],\"title\":{\"text\":\"y\"}},\"coloraxis\":{\"colorbar\":{\"title\":{\"text\":\"cluster\"}},\"colorscale\":[[0.0,\"#30123b\"],[0.07142857142857142,\"#4145ab\"],[0.14285714285714285,\"#4675ed\"],[0.21428571428571427,\"#39a2fc\"],[0.2857142857142857,\"#1bcfd4\"],[0.35714285714285715,\"#24eca6\"],[0.42857142857142855,\"#61fc6c\"],[0.5,\"#a4fc3b\"],[0.5714285714285714,\"#d1e834\"],[0.6428571428571429,\"#f3c63a\"],[0.7142857142857143,\"#fe9b2d\"],[0.7857142857142857,\"#f36315\"],[0.8571428571428571,\"#d93806\"],[0.9285714285714286,\"#b11901\"],[1.0,\"#7a0402\"]],\"cmin\":-1,\"cmax\":5},\"legend\":{\"tracegroupgap\":0,\"itemsizing\":\"constant\"},\"margin\":{\"t\":20,\"l\":20,\"r\":20,\"b\":20},\"height\":360,\"width\":420},                        {\"responsive\": true}                    ).then(function(){\n",
       "                            \n",
       "var gd = document.getElementById('804b616b-0206-4708-b028-d4f3bb926079');\n",
       "var x = new MutationObserver(function (mutations, observer) {{\n",
       "        var display = window.getComputedStyle(gd).display;\n",
       "        if (!display || display === 'none') {{\n",
       "            console.log([gd, 'removed!']);\n",
       "            Plotly.purge(gd);\n",
       "            observer.disconnect();\n",
       "        }}\n",
       "}});\n",
       "\n",
       "// Listen for the removal of the full notebook cells\n",
       "var notebookContainer = gd.closest('#notebook-container');\n",
       "if (notebookContainer) {{\n",
       "    x.observe(notebookContainer, {childList: true});\n",
       "}}\n",
       "\n",
       "// Listen for the clearing of the current output cell\n",
       "var outputEl = gd.closest('.output');\n",
       "if (outputEl) {{\n",
       "    x.observe(outputEl, {childList: true});\n",
       "}}\n",
       "\n",
       "                        })                };                });            </script>        </div>"
      ],
      "text/plain": [
       "Figure({\n",
       "    'data': [{'hovertemplate': ('x=%{x}<br>y=%{y}<br>sizes=%{ma' ... '%{marker.color}<extra></extra>'),\n",
       "              'legendgroup': '',\n",
       "              'marker': {'color': array([-1., -1., -1., -1., -1., -1., -1., -1., -1., -1., -1., -1., -1., -1.,\n",
       "                                         -1., -1., -1., -1., -1., -1., -1., -1., -1., -1., -1., -1., -1., -1.,\n",
       "                                         -1., -1., -1., -1., -1., -1., -1., -1., -1., -1., -1., -1., -1., -1.,\n",
       "                                         -1., -1., -1., -1., -1., -1., -1., -1., -1., -1., -1., -1., -1., -1.,\n",
       "                                         -1., -1., -1., -1., -1., -1., -1., -1., -1., -1., -1., -1., -1., -1.,\n",
       "                                         -1., -1., -1., -1., -1., -1., -1., -1., -1., -1., -1., -1., -1., -1.,\n",
       "                                         -1., -1., -1., -1., -1., -1., -1., -1., -1., -1., -1., -1., -1., -1.,\n",
       "                                         -1., -1.,  0.,  1.,  2.,  3.,  4.]),\n",
       "                         'coloraxis': 'coloraxis',\n",
       "                         'size': array([1., 1., 1., 1., 1., 1., 1., 1., 1., 1., 1., 1., 1., 1., 1., 1., 1., 1.,\n",
       "                                        1., 1., 1., 1., 1., 1., 1., 1., 1., 1., 1., 1., 1., 1., 1., 1., 1., 1.,\n",
       "                                        1., 1., 1., 1., 1., 1., 1., 1., 1., 1., 1., 1., 1., 1., 1., 1., 1., 1.,\n",
       "                                        1., 1., 1., 1., 1., 1., 1., 1., 1., 1., 1., 1., 1., 1., 1., 1., 1., 1.,\n",
       "                                        1., 1., 1., 1., 1., 1., 1., 1., 1., 1., 1., 1., 1., 1., 1., 1., 1., 1.,\n",
       "                                        1., 1., 1., 1., 1., 1., 1., 1., 1., 1., 4., 4., 4., 4., 4.]),\n",
       "                         'sizemode': 'area',\n",
       "                         'sizeref': 0.01,\n",
       "                         'symbol': 'circle'},\n",
       "              'mode': 'markers',\n",
       "              'name': '',\n",
       "              'orientation': 'v',\n",
       "              'showlegend': False,\n",
       "              'type': 'scatter',\n",
       "              'x': array([-0.082978  , -0.49988563, -0.35324411, -0.31373979, -0.10323253,\n",
       "                          -0.08080549, -0.29554775, -0.47261241, -0.0826952 , -0.35961306,\n",
       "                           0.30074457, -0.18657582,  0.37638915, -0.41495579, -0.33016958,\n",
       "                          -0.40165317,  0.45788953,  0.19187711,  0.18650093, -0.48171172,\n",
       "                           0.48886109, -0.21955601, -0.39677399,  0.4085955 , -0.21222466,\n",
       "                          -0.48063304, -0.28837188, -0.00842684,  0.07411761,  0.08930554,\n",
       "                          -0.39766557,  0.19440016, -0.45004654,  0.16379465,  0.44459476,\n",
       "                           0.40340192, -0.36072365, -0.10232316,  0.42750858,  0.2508121 ,\n",
       "                           0.38330609,  0.25094243, -0.23007211, -0.07190881,  0.1634415 ,\n",
       "                          -0.38525403, -0.05008787, -0.0918632 ,  0.40337952, -0.49712967,\n",
       "                          -0.1733551 ,  0.3859421 ,  0.40853515, -0.48417876,  0.19089692,\n",
       "                          -0.32765949,  0.43259546, -0.43399983,  0.25387619,  0.21152476,\n",
       "                          -0.48011987, -0.47169351,  0.36002795,  0.05282198, -0.37582668,\n",
       "                           0.08575927,  0.06103022,  0.30063267,  0.3071052 ,  0.36354185,\n",
       "                           0.05624023, -0.44008231, -0.45544812, -0.27429066,  0.05971698,\n",
       "                          -0.42802572,  0.06810046, -0.24767426, -0.30457052,  0.47001999,\n",
       "                          -0.26015224,  0.11995572, -0.34320861, -0.42997786,  0.10632946,\n",
       "                          -0.18263759,  0.07974522,  0.05094822,  0.16923289, -0.43366517,\n",
       "                           0.12971751,  0.25275555, -0.2396849 , -0.30656572,  0.02467031,\n",
       "                          -0.23670323,  0.23506596,  0.40781585, -0.48604843,  0.11677836,\n",
       "                           0.27010567,  0.24936381, -0.06599537,  0.06258629,  0.25570886]),\n",
       "              'xaxis': 'x',\n",
       "              'y': array([ 0.22032449, -0.19766743, -0.40766141, -0.15443927,  0.03881673,\n",
       "                           0.1852195 ,  0.37811744,  0.17046751,  0.05868983, -0.30189851,\n",
       "                           0.46826158,  0.19232262,  0.39460666, -0.46094522,  0.3781425 ,\n",
       "                          -0.07889237,  0.03316528, -0.18448437,  0.33462567,  0.25014431,\n",
       "                           0.24816565,  0.28927933, -0.05210647, -0.20638585, -0.36997143,\n",
       "                           0.17883553, -0.23445334, -0.44663745, -0.35327143,  0.19975836,\n",
       "                          -0.08594401, -0.08582073,  0.03589641,  0.01488911,  0.08655504,\n",
       "                          -0.3625253 ,  0.30739129, -0.3346458 , -0.15223414,  0.22599799,\n",
       "                           0.12367221, -0.15110166,  0.39588622,  0.46484005,  0.12169572,\n",
       "                           0.44948926,  0.07838961, -0.26297302,  0.07367949,  0.11714491,\n",
       "                           0.0270581 , -0.14273024,  0.12336012,  0.42943723,  0.49732285,\n",
       "                          -0.36286425,  0.19681816,  0.25546305,  0.42302454, -0.37572904,\n",
       "                          -0.47378901, -0.25378893,  0.03883106,  0.34203089, -0.22081632,\n",
       "                           0.46959575, -0.48135271, -0.26702573, -0.11213936,  0.24712164,\n",
       "                          -0.36354477, -0.37865654, -0.39250587,  0.21298898, -0.48744402,\n",
       "                           0.46727633, -0.29670677,  0.24382585,  0.08135893,  0.3468288 ,\n",
       "                          -0.00623029,  0.3289809 , -0.4814238 , -0.01365489,  0.06885144,\n",
       "                           0.48861615, -0.11985883,  0.24533443, -0.23508044, -0.1299158 ,\n",
       "                          -0.28982599, -0.43346352,  0.30475456,  0.13946088,  0.42480797,\n",
       "                          -0.43403891,  0.27217803,  0.43197207, -0.26563791,  0.44901632,\n",
       "                           0.03399191,  0.08493973, -0.0084056 ,  0.02972875,  0.25124006]),\n",
       "              'yaxis': 'y'}],\n",
       "    'layout': {'coloraxis': {'cmax': 5,\n",
       "                             'cmin': -1,\n",
       "                             'colorbar': {'title': {'text': 'cluster'}},\n",
       "                             'colorscale': [[0.0, '#30123b'],\n",
       "                                            [0.07142857142857142, '#4145ab'],\n",
       "                                            [0.14285714285714285, '#4675ed'],\n",
       "                                            [0.21428571428571427, '#39a2fc'],\n",
       "                                            [0.2857142857142857, '#1bcfd4'],\n",
       "                                            [0.35714285714285715, '#24eca6'],\n",
       "                                            [0.42857142857142855, '#61fc6c'], [0.5,\n",
       "                                            '#a4fc3b'], [0.5714285714285714,\n",
       "                                            '#d1e834'], [0.6428571428571429,\n",
       "                                            '#f3c63a'], [0.7142857142857143,\n",
       "                                            '#fe9b2d'], [0.7857142857142857,\n",
       "                                            '#f36315'], [0.8571428571428571,\n",
       "                                            '#d93806'], [0.9285714285714286,\n",
       "                                            '#b11901'], [1.0, '#7a0402']]},\n",
       "               'height': 360,\n",
       "               'legend': {'itemsizing': 'constant', 'tracegroupgap': 0},\n",
       "               'margin': {'b': 20, 'l': 20, 'r': 20, 't': 20},\n",
       "               'template': '...',\n",
       "               'width': 420,\n",
       "               'xaxis': {'anchor': 'y', 'domain': [0.0, 1.0], 'title': {'text': 'x'}},\n",
       "               'yaxis': {'anchor': 'x', 'domain': [0.0, 1.0], 'title': {'text': 'y'}}}\n",
       "})"
      ]
     },
     "execution_count": 26,
     "metadata": {},
     "output_type": "execute_result"
    }
   ],
   "source": [
    "np.random.seed(1)\n",
    "n_dim = 2  # easier to do in 2d at first\n",
    "n_points = 100\n",
    "data_k = DATA_MIN + (DATA_MAX - DATA_MIN) * np.random.rand(n_points, n_dim)   # make up some random data points\n",
    "\n",
    "# number of clusters has to be defined up front\n",
    "k = 5       \n",
    "\n",
    "# start with random centroids not too far from the edges\n",
    "centroids = DATA_MIN + 0.2 + 0.6 * (DATA_MAX - DATA_MIN) * np.random.rand(k, n_dim)\n",
    "orig_centroids = centroids.copy() # save these for later when we'll make a movie\n",
    "\n",
    "# TODO replace this with something that doesn't throw errors\n",
    "def plot_kmeans(data, centroids, cluster_memb=None): # we'll leave a way to color the data points\n",
    "    all_data = np.concatenate((data,centroids))\n",
    "    is_centroid = np.array([1 if i >= n_points else 0 for i in range(all_data.shape[0])], np.newaxis)\n",
    "    sizes = is_centroid * 3 + 1\n",
    "    cs = cluster_memb if cluster_memb is not None else -1 + np.zeros((data.shape[0], 1), dtype=int) \n",
    "    cs = np.append(cs, range(k)) # add the centroids\n",
    "    plot_data = np.column_stack((all_data, sizes, cs))\n",
    "    columns = ['x','y','sizes','cluster']\n",
    "    df = pd.DataFrame( plot_data,  columns=columns)\n",
    "    fig = px.scatter(df, x=\"x\", y=\"y\", color='cluster', size='sizes',  range_color=(-1,k),\n",
    "            width=420, height=360, color_continuous_scale='Turbo')\n",
    "    fig.update_layout(margin=dict(l=20, r=20, t=20, b=20),)\n",
    "    return fig\n",
    "\n",
    "plot_kmeans(data_k, centroids)"
   ]
  },
  {
   "cell_type": "code",
   "execution_count": null,
   "metadata": {},
   "outputs": [],
   "source": []
  }
 ],
 "metadata": {
  "kernelspec": {
   "display_name": ".venv",
   "language": "python",
   "name": "python3"
  },
  "language_info": {
   "codemirror_mode": {
    "name": "ipython",
    "version": 3
   },
   "file_extension": ".py",
   "mimetype": "text/x-python",
   "name": "python",
   "nbconvert_exporter": "python",
   "pygments_lexer": "ipython3",
   "version": "3.11.3"
  },
  "orig_nbformat": 4
 },
 "nbformat": 4,
 "nbformat_minor": 2
}
